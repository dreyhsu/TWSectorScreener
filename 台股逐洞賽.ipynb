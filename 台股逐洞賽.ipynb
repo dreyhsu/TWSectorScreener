{
 "cells": [
  {
   "cell_type": "code",
   "execution_count": null,
   "metadata": {},
   "outputs": [],
   "source": [
    "a script which https://www.ctee.com.tw/stock/matchplay\n"
   ]
  }
 ],
 "metadata": {
  "language_info": {
   "name": "python"
  }
 },
 "nbformat": 4,
 "nbformat_minor": 2
}
