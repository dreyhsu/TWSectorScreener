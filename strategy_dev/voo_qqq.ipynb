{
 "cells": [
  {
   "cell_type": "code",
   "execution_count": 1,
   "metadata": {},
   "outputs": [
    {
     "name": "stderr",
     "output_type": "stream",
     "text": [
      "Matplotlib is building the font cache; this may take a moment.\n"
     ]
    }
   ],
   "source": [
    "import pandas as pd\n",
    "import numpy as np\n",
    "import vectorbt as vbt\n",
    "import yfinance as yf\n",
    "import matplotlib.pyplot as plt\n",
    "from datetime import datetime, timedelta"
   ]
  },
  {
   "cell_type": "code",
   "execution_count": 16,
   "metadata": {},
   "outputs": [
    {
     "name": "stdout",
     "output_type": "stream",
     "text": [
      "Downloading data for ['VOO', 'QQQ'] from 2024-01-01 to 2025-03-13...\n",
      "Data downloaded successfully.\n"
     ]
    }
   ],
   "source": [
    "# Parameters\n",
    "initial_capital = 5000\n",
    "num_portions = 10\n",
    "portion_size = initial_capital / num_portions\n",
    "voo_drawdown_threshold = 0.03  # 10% drawdown\n",
    "voo_increase_threshold = 0.03  # 5% increase\n",
    "tickers = ['VOO', 'QQQ']\n",
    "start_date = '2024-01-01'  # Adjust as needed\n",
    "end_date = datetime.now().strftime('%Y-%m-%d')\n",
    "\n",
    "# Download data\n",
    "print(f\"Downloading data for {tickers} from {start_date} to {end_date}...\")\n",
    "# data = yf.download(tickers, start=start_date, end=end_date)\n",
    "data = pd.read_pickle('data/voo_qqq.pkl')\n",
    "# close_prices = data['Adj Close']\n",
    "print(\"Data downloaded successfully.\")"
   ]
  },
  {
   "cell_type": "code",
   "execution_count": 8,
   "metadata": {},
   "outputs": [
    {
     "data": {
      "application/vnd.microsoft.datawrangler.viewer.v0+json": {
       "columns": [
        {
         "name": "Date",
         "rawType": "datetime64[ns]",
         "type": "datetime"
        },
        {
         "name": "('Close', 'QQQ')",
         "rawType": "float64",
         "type": "float"
        },
        {
         "name": "('Close', 'VOO')",
         "rawType": "float64",
         "type": "float"
        },
        {
         "name": "('High', 'QQQ')",
         "rawType": "float64",
         "type": "float"
        },
        {
         "name": "('High', 'VOO')",
         "rawType": "float64",
         "type": "float"
        },
        {
         "name": "('Low', 'QQQ')",
         "rawType": "float64",
         "type": "float"
        },
        {
         "name": "('Low', 'VOO')",
         "rawType": "float64",
         "type": "float"
        },
        {
         "name": "('Open', 'QQQ')",
         "rawType": "float64",
         "type": "float"
        },
        {
         "name": "('Open', 'VOO')",
         "rawType": "float64",
         "type": "float"
        },
        {
         "name": "('Volume', 'QQQ')",
         "rawType": "int64",
         "type": "integer"
        },
        {
         "name": "('Volume', 'VOO')",
         "rawType": "int64",
         "type": "integer"
        }
       ],
       "conversionMethod": "pd.DataFrame",
       "ref": "9f583c0f-9cab-4e6b-a33b-94147eccd839",
       "rows": [
        [
         "2024-01-02 00:00:00",
         "400.211669921875",
         "428.3769226074219",
         "403.6909934457286",
         "429.6205483779865",
         "397.87554663125746",
         "426.7483141310761",
         "403.4424703368819",
         "428.2782144995395",
         "58026900",
         "9076000"
        ],
        [
         "2024-01-03 00:00:00",
         "395.9768371582031",
         "425.1986999511719",
         "398.63107738094465",
         "427.38000749072324",
         "395.5394643851035",
         "424.665700283796",
         "397.56739116533663",
         "426.7088405741666",
         "47002800",
         "4805000"
        ],
        [
         "2024-01-04 00:00:00",
         "393.9389343261719",
         "423.8563537597656",
         "397.2293777370715",
         "427.16287961107275",
         "393.72023278508675",
         "423.6392079692518",
         "394.0979927503513",
         "424.74466649496367",
         "39432800",
         "3945300"
        ],
        [
         "2024-01-05 00:00:00",
         "394.4061584472656",
         "424.39923095703125",
         "397.1995556554097",
         "426.68909640988767",
         "393.0044845272426",
         "423.0766266480972",
         "394.10794286312984",
         "424.01427837172577",
         "44867900",
         "5723100"
        ],
        [
         "2024-01-08 00:00:00",
         "402.5577392578125",
         "430.4693908691406",
         "402.8460042179386",
         "430.6075581194278",
         "395.48972634735696",
         "424.7841413622301",
         "395.63883414350727",
         "424.86311989509534",
         "42473800",
         "7222400"
        ]
       ],
       "shape": {
        "columns": 10,
        "rows": 5
       }
      },
      "text/html": [
       "<div>\n",
       "<style scoped>\n",
       "    .dataframe tbody tr th:only-of-type {\n",
       "        vertical-align: middle;\n",
       "    }\n",
       "\n",
       "    .dataframe tbody tr th {\n",
       "        vertical-align: top;\n",
       "    }\n",
       "\n",
       "    .dataframe thead tr th {\n",
       "        text-align: left;\n",
       "    }\n",
       "\n",
       "    .dataframe thead tr:last-of-type th {\n",
       "        text-align: right;\n",
       "    }\n",
       "</style>\n",
       "<table border=\"1\" class=\"dataframe\">\n",
       "  <thead>\n",
       "    <tr>\n",
       "      <th>Price</th>\n",
       "      <th colspan=\"2\" halign=\"left\">Close</th>\n",
       "      <th colspan=\"2\" halign=\"left\">High</th>\n",
       "      <th colspan=\"2\" halign=\"left\">Low</th>\n",
       "      <th colspan=\"2\" halign=\"left\">Open</th>\n",
       "      <th colspan=\"2\" halign=\"left\">Volume</th>\n",
       "    </tr>\n",
       "    <tr>\n",
       "      <th>Ticker</th>\n",
       "      <th>QQQ</th>\n",
       "      <th>VOO</th>\n",
       "      <th>QQQ</th>\n",
       "      <th>VOO</th>\n",
       "      <th>QQQ</th>\n",
       "      <th>VOO</th>\n",
       "      <th>QQQ</th>\n",
       "      <th>VOO</th>\n",
       "      <th>QQQ</th>\n",
       "      <th>VOO</th>\n",
       "    </tr>\n",
       "    <tr>\n",
       "      <th>Date</th>\n",
       "      <th></th>\n",
       "      <th></th>\n",
       "      <th></th>\n",
       "      <th></th>\n",
       "      <th></th>\n",
       "      <th></th>\n",
       "      <th></th>\n",
       "      <th></th>\n",
       "      <th></th>\n",
       "      <th></th>\n",
       "    </tr>\n",
       "  </thead>\n",
       "  <tbody>\n",
       "    <tr>\n",
       "      <th>2024-01-02</th>\n",
       "      <td>400.211670</td>\n",
       "      <td>428.376923</td>\n",
       "      <td>403.690993</td>\n",
       "      <td>429.620548</td>\n",
       "      <td>397.875547</td>\n",
       "      <td>426.748314</td>\n",
       "      <td>403.442470</td>\n",
       "      <td>428.278214</td>\n",
       "      <td>58026900</td>\n",
       "      <td>9076000</td>\n",
       "    </tr>\n",
       "    <tr>\n",
       "      <th>2024-01-03</th>\n",
       "      <td>395.976837</td>\n",
       "      <td>425.198700</td>\n",
       "      <td>398.631077</td>\n",
       "      <td>427.380007</td>\n",
       "      <td>395.539464</td>\n",
       "      <td>424.665700</td>\n",
       "      <td>397.567391</td>\n",
       "      <td>426.708841</td>\n",
       "      <td>47002800</td>\n",
       "      <td>4805000</td>\n",
       "    </tr>\n",
       "    <tr>\n",
       "      <th>2024-01-04</th>\n",
       "      <td>393.938934</td>\n",
       "      <td>423.856354</td>\n",
       "      <td>397.229378</td>\n",
       "      <td>427.162880</td>\n",
       "      <td>393.720233</td>\n",
       "      <td>423.639208</td>\n",
       "      <td>394.097993</td>\n",
       "      <td>424.744666</td>\n",
       "      <td>39432800</td>\n",
       "      <td>3945300</td>\n",
       "    </tr>\n",
       "    <tr>\n",
       "      <th>2024-01-05</th>\n",
       "      <td>394.406158</td>\n",
       "      <td>424.399231</td>\n",
       "      <td>397.199556</td>\n",
       "      <td>426.689096</td>\n",
       "      <td>393.004485</td>\n",
       "      <td>423.076627</td>\n",
       "      <td>394.107943</td>\n",
       "      <td>424.014278</td>\n",
       "      <td>44867900</td>\n",
       "      <td>5723100</td>\n",
       "    </tr>\n",
       "    <tr>\n",
       "      <th>2024-01-08</th>\n",
       "      <td>402.557739</td>\n",
       "      <td>430.469391</td>\n",
       "      <td>402.846004</td>\n",
       "      <td>430.607558</td>\n",
       "      <td>395.489726</td>\n",
       "      <td>424.784141</td>\n",
       "      <td>395.638834</td>\n",
       "      <td>424.863120</td>\n",
       "      <td>42473800</td>\n",
       "      <td>7222400</td>\n",
       "    </tr>\n",
       "  </tbody>\n",
       "</table>\n",
       "</div>"
      ],
      "text/plain": [
       "Price            Close                    High                     Low  \\\n",
       "Ticker             QQQ         VOO         QQQ         VOO         QQQ   \n",
       "Date                                                                     \n",
       "2024-01-02  400.211670  428.376923  403.690993  429.620548  397.875547   \n",
       "2024-01-03  395.976837  425.198700  398.631077  427.380007  395.539464   \n",
       "2024-01-04  393.938934  423.856354  397.229378  427.162880  393.720233   \n",
       "2024-01-05  394.406158  424.399231  397.199556  426.689096  393.004485   \n",
       "2024-01-08  402.557739  430.469391  402.846004  430.607558  395.489726   \n",
       "\n",
       "Price                         Open                Volume           \n",
       "Ticker             VOO         QQQ         VOO       QQQ      VOO  \n",
       "Date                                                               \n",
       "2024-01-02  426.748314  403.442470  428.278214  58026900  9076000  \n",
       "2024-01-03  424.665700  397.567391  426.708841  47002800  4805000  \n",
       "2024-01-04  423.639208  394.097993  424.744666  39432800  3945300  \n",
       "2024-01-05  423.076627  394.107943  424.014278  44867900  5723100  \n",
       "2024-01-08  424.784141  395.638834  424.863120  42473800  7222400  "
      ]
     },
     "execution_count": 8,
     "metadata": {},
     "output_type": "execute_result"
    }
   ],
   "source": [
    "data.head()"
   ]
  },
  {
   "cell_type": "code",
   "execution_count": 12,
   "metadata": {},
   "outputs": [],
   "source": [
    "warm_up = 20\n",
    "# Calculate 250-day rolling highest and lowest close for VOO\n",
    "voo_prices = data[('Close', 'VOO')]\n",
    "voo_250d_high = voo_prices.rolling(window=warm_up).max()\n",
    "voo_250d_low = voo_prices.rolling(window=warm_up).min()\n",
    "\n",
    "# Initialize position tracking\n",
    "voo_portions = num_portions\n",
    "qqq_portions = 0\n",
    "positions = pd.DataFrame(index=data.index, columns=['VOO_portions', 'QQQ_portions', 'VOO_value', 'QQQ_value', 'Total_value'])"
   ]
  },
  {
   "cell_type": "code",
   "execution_count": 18,
   "metadata": {},
   "outputs": [
    {
     "name": "stdout",
     "output_type": "stream",
     "text": [
      "2024-02-01 00:00:00: VOO 5% increase detected. Selling 1 QQQ portion, buying 1 VOO portion.\n",
      "2024-02-02 00:00:00: VOO 5% increase detected. Selling 1 QQQ portion, buying 1 VOO portion.\n"
     ]
    },
    {
     "name": "stderr",
     "output_type": "stream",
     "text": [
      "C:\\Users\\User\\AppData\\Local\\Temp\\ipykernel_4824\\2676072049.py:28: FutureWarning: Setting an item of incompatible dtype is deprecated and will raise an error in a future version of pandas. Value '505.88766165310403' has dtype incompatible with int64, please explicitly cast to a compatible dtype first.\n",
      "  positions.loc[current_date] = [voo_portions, qqq_portions, voo_value, qqq_value, total_value]\n"
     ]
    },
    {
     "name": "stdout",
     "output_type": "stream",
     "text": [
      "2024-04-15 00:00:00: VOO 10% drawdown detected. Selling 2 VOO portions, buying 2 QQQ portions.\n",
      "2024-04-16 00:00:00: VOO 10% drawdown detected. Selling 2 VOO portions, buying 2 QQQ portions.\n",
      "2024-04-17 00:00:00: VOO 10% drawdown detected. Selling 2 VOO portions, buying 2 QQQ portions.\n",
      "2024-04-18 00:00:00: VOO 10% drawdown detected. Selling 2 VOO portions, buying 2 QQQ portions.\n",
      "2024-04-19 00:00:00: VOO 10% drawdown detected. Selling 2 VOO portions, buying 2 QQQ portions.\n",
      "2024-04-29 00:00:00: VOO 5% increase detected. Selling 1 QQQ portion, buying 1 VOO portion.\n",
      "2024-05-03 00:00:00: VOO 5% increase detected. Selling 1 QQQ portion, buying 1 VOO portion.\n",
      "2024-05-06 00:00:00: VOO 5% increase detected. Selling 1 QQQ portion, buying 1 VOO portion.\n",
      "2024-05-07 00:00:00: VOO 5% increase detected. Selling 1 QQQ portion, buying 1 VOO portion.\n",
      "2024-05-08 00:00:00: VOO 5% increase detected. Selling 1 QQQ portion, buying 1 VOO portion.\n",
      "2024-05-09 00:00:00: VOO 5% increase detected. Selling 1 QQQ portion, buying 1 VOO portion.\n",
      "2024-05-10 00:00:00: VOO 5% increase detected. Selling 1 QQQ portion, buying 1 VOO portion.\n",
      "2024-05-13 00:00:00: VOO 5% increase detected. Selling 1 QQQ portion, buying 1 VOO portion.\n",
      "2024-05-14 00:00:00: VOO 5% increase detected. Selling 1 QQQ portion, buying 1 VOO portion.\n",
      "2024-05-15 00:00:00: VOO 5% increase detected. Selling 1 QQQ portion, buying 1 VOO portion.\n",
      "2024-07-24 00:00:00: VOO 10% drawdown detected. Selling 2 VOO portions, buying 2 QQQ portions.\n",
      "2024-07-25 00:00:00: VOO 10% drawdown detected. Selling 2 VOO portions, buying 2 QQQ portions.\n",
      "2024-07-26 00:00:00: VOO 10% drawdown detected. Selling 2 VOO portions, buying 2 QQQ portions.\n",
      "2024-07-29 00:00:00: VOO 10% drawdown detected. Selling 2 VOO portions, buying 2 QQQ portions.\n",
      "2024-07-30 00:00:00: VOO 10% drawdown detected. Selling 2 VOO portions, buying 2 QQQ portions.\n",
      "2024-08-09 00:00:00: VOO 5% increase detected. Selling 1 QQQ portion, buying 1 VOO portion.\n",
      "2024-08-12 00:00:00: VOO 5% increase detected. Selling 1 QQQ portion, buying 1 VOO portion.\n",
      "2024-08-13 00:00:00: VOO 10% drawdown detected. Selling 2 VOO portions, buying 2 QQQ portions.\n",
      "2024-08-14 00:00:00: VOO 5% increase detected. Selling 1 QQQ portion, buying 1 VOO portion.\n",
      "2024-08-15 00:00:00: VOO 5% increase detected. Selling 1 QQQ portion, buying 1 VOO portion.\n",
      "2024-08-16 00:00:00: VOO 5% increase detected. Selling 1 QQQ portion, buying 1 VOO portion.\n",
      "2024-08-19 00:00:00: VOO 5% increase detected. Selling 1 QQQ portion, buying 1 VOO portion.\n",
      "2024-08-20 00:00:00: VOO 5% increase detected. Selling 1 QQQ portion, buying 1 VOO portion.\n",
      "2024-08-21 00:00:00: VOO 5% increase detected. Selling 1 QQQ portion, buying 1 VOO portion.\n",
      "2024-08-22 00:00:00: VOO 5% increase detected. Selling 1 QQQ portion, buying 1 VOO portion.\n",
      "2024-08-23 00:00:00: VOO 5% increase detected. Selling 1 QQQ portion, buying 1 VOO portion.\n",
      "2024-08-26 00:00:00: VOO 5% increase detected. Selling 1 QQQ portion, buying 1 VOO portion.\n",
      "2024-08-27 00:00:00: VOO 5% increase detected. Selling 1 QQQ portion, buying 1 VOO portion.\n",
      "2024-09-06 00:00:00: VOO 10% drawdown detected. Selling 2 VOO portions, buying 2 QQQ portions.\n",
      "2024-09-09 00:00:00: VOO 10% drawdown detected. Selling 2 VOO portions, buying 2 QQQ portions.\n",
      "2024-09-12 00:00:00: VOO 5% increase detected. Selling 1 QQQ portion, buying 1 VOO portion.\n",
      "2024-09-13 00:00:00: VOO 5% increase detected. Selling 1 QQQ portion, buying 1 VOO portion.\n",
      "2024-09-16 00:00:00: VOO 5% increase detected. Selling 1 QQQ portion, buying 1 VOO portion.\n",
      "2024-09-17 00:00:00: VOO 5% increase detected. Selling 1 QQQ portion, buying 1 VOO portion.\n",
      "2024-12-18 00:00:00: VOO 10% drawdown detected. Selling 2 VOO portions, buying 2 QQQ portions.\n",
      "2024-12-19 00:00:00: VOO 10% drawdown detected. Selling 2 VOO portions, buying 2 QQQ portions.\n",
      "2024-12-31 00:00:00: VOO 10% drawdown detected. Selling 2 VOO portions, buying 2 QQQ portions.\n",
      "2025-01-02 00:00:00: VOO 10% drawdown detected. Selling 2 VOO portions, buying 2 QQQ portions.\n",
      "2025-01-10 00:00:00: VOO 10% drawdown detected. Selling 2 VOO portions, buying 2 QQQ portions.\n",
      "2025-01-21 00:00:00: VOO 5% increase detected. Selling 1 QQQ portion, buying 1 VOO portion.\n",
      "2025-01-22 00:00:00: VOO 5% increase detected. Selling 1 QQQ portion, buying 1 VOO portion.\n",
      "2025-01-23 00:00:00: VOO 5% increase detected. Selling 1 QQQ portion, buying 1 VOO portion.\n",
      "2025-01-24 00:00:00: VOO 5% increase detected. Selling 1 QQQ portion, buying 1 VOO portion.\n",
      "2025-01-27 00:00:00: VOO 5% increase detected. Selling 1 QQQ portion, buying 1 VOO portion.\n",
      "2025-01-28 00:00:00: VOO 5% increase detected. Selling 1 QQQ portion, buying 1 VOO portion.\n",
      "2025-01-29 00:00:00: VOO 5% increase detected. Selling 1 QQQ portion, buying 1 VOO portion.\n",
      "2025-01-30 00:00:00: VOO 5% increase detected. Selling 1 QQQ portion, buying 1 VOO portion.\n",
      "2025-01-31 00:00:00: VOO 5% increase detected. Selling 1 QQQ portion, buying 1 VOO portion.\n",
      "2025-02-04 00:00:00: VOO 5% increase detected. Selling 1 QQQ portion, buying 1 VOO portion.\n",
      "2025-02-25 00:00:00: VOO 10% drawdown detected. Selling 2 VOO portions, buying 2 QQQ portions.\n",
      "2025-02-26 00:00:00: VOO 10% drawdown detected. Selling 2 VOO portions, buying 2 QQQ portions.\n",
      "2025-02-27 00:00:00: VOO 10% drawdown detected. Selling 2 VOO portions, buying 2 QQQ portions.\n",
      "2025-02-28 00:00:00: VOO 10% drawdown detected. Selling 2 VOO portions, buying 2 QQQ portions.\n",
      "2025-03-03 00:00:00: VOO 10% drawdown detected. Selling 2 VOO portions, buying 2 QQQ portions.\n"
     ]
    }
   ],
   "source": [
    "# Strategy implementation\n",
    "for i in range(warm_up, len(data)):\n",
    "    current_date = data.index[i]\n",
    "    prev_date = data.index[i-1]\n",
    "    \n",
    "    # Check conditions only if we have at least one day of previous data\n",
    "    if i > warm_up:\n",
    "        # Check for VOO 10% drawdown from 250d high\n",
    "        if voo_prices[current_date] <= voo_250d_high[prev_date] * (1 - voo_drawdown_threshold) and voo_portions >= 2:\n",
    "            # Sell 2 portions of VOO and buy QQQ\n",
    "            voo_portions -= 2\n",
    "            qqq_portions += 2\n",
    "            print(f\"{current_date}: VOO 10% drawdown detected. Selling 2 VOO portions, buying 2 QQQ portions.\")\n",
    "        \n",
    "        # Check for VOO 5% increase from 250d low\n",
    "        elif voo_prices[current_date] >= voo_250d_low[prev_date] * (1 + voo_increase_threshold) and qqq_portions >= 1:\n",
    "            # Sell 1 portion of QQQ and buy VOO\n",
    "            qqq_portions -= 1\n",
    "            voo_portions += 1\n",
    "            print(f\"{current_date}: VOO 5% increase detected. Selling 1 QQQ portion, buying 1 VOO portion.\")\n",
    "    \n",
    "    # Calculate current values\n",
    "    voo_value = voo_portions * portion_size * (voo_prices[current_date] / voo_prices[data.index[warm_up]])\n",
    "    qqq_value = qqq_portions * portion_size * (data[('Close', 'QQQ')][current_date] / data[('Close', 'QQQ')][data.index[warm_up]]) if qqq_portions > 0 else 0\n",
    "    total_value = voo_value + qqq_value\n",
    "    \n",
    "    # Store positions\n",
    "    positions.loc[current_date] = [voo_portions, qqq_portions, voo_value, qqq_value, total_value]"
   ]
  },
  {
   "cell_type": "code",
   "execution_count": 19,
   "metadata": {},
   "outputs": [
    {
     "data": {
      "application/vnd.microsoft.datawrangler.viewer.v0+json": {
       "columns": [
        {
         "name": "Date",
         "rawType": "datetime64[ns]",
         "type": "datetime"
        },
        {
         "name": "VOO_portions",
         "rawType": "int64",
         "type": "integer"
        },
        {
         "name": "QQQ_portions",
         "rawType": "int64",
         "type": "integer"
        },
        {
         "name": "VOO_value",
         "rawType": "float64",
         "type": "float"
        },
        {
         "name": "QQQ_value",
         "rawType": "float64",
         "type": "float"
        },
        {
         "name": "Total_value",
         "rawType": "float64",
         "type": "float"
        }
       ],
       "conversionMethod": "pd.DataFrame",
       "ref": "aa818511-0b80-43fa-b5bb-422d45a6e196",
       "rows": [
        [
         "2024-01-02 00:00:00",
         "0",
         "0",
         "0.0",
         "0.0",
         "0.0"
        ],
        [
         "2024-01-03 00:00:00",
         "0",
         "0",
         "0.0",
         "0.0",
         "0.0"
        ],
        [
         "2024-01-04 00:00:00",
         "0",
         "0",
         "0.0",
         "0.0",
         "0.0"
        ],
        [
         "2024-01-05 00:00:00",
         "0",
         "0",
         "0.0",
         "0.0",
         "0.0"
        ],
        [
         "2024-01-08 00:00:00",
         "0",
         "0",
         "0.0",
         "0.0",
         "0.0"
        ],
        [
         "2024-01-09 00:00:00",
         "0",
         "0",
         "0.0",
         "0.0",
         "0.0"
        ],
        [
         "2024-01-10 00:00:00",
         "0",
         "0",
         "0.0",
         "0.0",
         "0.0"
        ],
        [
         "2024-01-11 00:00:00",
         "0",
         "0",
         "0.0",
         "0.0",
         "0.0"
        ],
        [
         "2024-01-12 00:00:00",
         "0",
         "0",
         "0.0",
         "0.0",
         "0.0"
        ],
        [
         "2024-01-16 00:00:00",
         "0",
         "0",
         "0.0",
         "0.0",
         "0.0"
        ],
        [
         "2024-01-17 00:00:00",
         "0",
         "0",
         "0.0",
         "0.0",
         "0.0"
        ],
        [
         "2024-01-18 00:00:00",
         "0",
         "0",
         "0.0",
         "0.0",
         "0.0"
        ],
        [
         "2024-01-19 00:00:00",
         "0",
         "0",
         "0.0",
         "0.0",
         "0.0"
        ],
        [
         "2024-01-22 00:00:00",
         "0",
         "0",
         "0.0",
         "0.0",
         "0.0"
        ],
        [
         "2024-01-23 00:00:00",
         "0",
         "0",
         "0.0",
         "0.0",
         "0.0"
        ],
        [
         "2024-01-24 00:00:00",
         "0",
         "0",
         "0.0",
         "0.0",
         "0.0"
        ],
        [
         "2024-01-25 00:00:00",
         "0",
         "0",
         "0.0",
         "0.0",
         "0.0"
        ],
        [
         "2024-01-26 00:00:00",
         "0",
         "0",
         "0.0",
         "0.0",
         "0.0"
        ],
        [
         "2024-01-29 00:00:00",
         "0",
         "0",
         "0.0",
         "0.0",
         "0.0"
        ],
        [
         "2024-01-30 00:00:00",
         "0",
         "0",
         "0.0",
         "0.0",
         "0.0"
        ],
        [
         "2024-01-31 00:00:00",
         "8",
         "2",
         "4000.0",
         "1000.0",
         "5000.0"
        ],
        [
         "2024-02-01 00:00:00",
         "9",
         "1",
         "4559.213397261984",
         "505.88766165310403",
         "5065.101058915088"
        ],
        [
         "2024-02-02 00:00:00",
         "10",
         "0",
         "5117.840351514692",
         "0.0",
         "5117.840351514692"
        ],
        [
         "2024-02-05 00:00:00",
         "10",
         "0",
         "5099.13903366899",
         "0.0",
         "5099.13903366899"
        ],
        [
         "2024-02-06 00:00:00",
         "10",
         "0",
         "5115.024129294452",
         "0.0",
         "5115.024129294452"
        ],
        [
         "2024-02-07 00:00:00",
         "10",
         "0",
         "5157.045578423133",
         "0.0",
         "5157.045578423133"
        ],
        [
         "2024-02-08 00:00:00",
         "10",
         "0",
         "5160.538251299119",
         "0.0",
         "5160.538251299119"
        ],
        [
         "2024-02-09 00:00:00",
         "10",
         "0",
         "5189.8294006772585",
         "0.0",
         "5189.8294006772585"
        ],
        [
         "2024-02-12 00:00:00",
         "10",
         "0",
         "5187.463565016174",
         "0.0",
         "5187.463565016174"
        ],
        [
         "2024-02-13 00:00:00",
         "10",
         "0",
         "5114.348026965511",
         "0.0",
         "5114.348026965511"
        ],
        [
         "2024-02-14 00:00:00",
         "10",
         "0",
         "5163.016248191488",
         "0.0",
         "5163.016248191488"
        ],
        [
         "2024-02-15 00:00:00",
         "10",
         "0",
         "5197.940886990523",
         "0.0",
         "5197.940886990523"
        ],
        [
         "2024-02-16 00:00:00",
         "10",
         "0",
         "5171.353101947732",
         "0.0",
         "5171.353101947732"
        ],
        [
         "2024-02-20 00:00:00",
         "10",
         "0",
         "5142.96377066832",
         "0.0",
         "5142.96377066832"
        ],
        [
         "2024-02-21 00:00:00",
         "10",
         "0",
         "5148.145828549645",
         "0.0",
         "5148.145828549645"
        ],
        [
         "2024-02-22 00:00:00",
         "10",
         "0",
         "5256.297818303821",
         "0.0",
         "5256.297818303821"
        ],
        [
         "2024-02-23 00:00:00",
         "10",
         "0",
         "5258.6633056381015",
         "0.0",
         "5258.6633056381015"
        ],
        [
         "2024-02-26 00:00:00",
         "10",
         "0",
         "5239.398743348352",
         "0.0",
         "5239.398743348352"
        ],
        [
         "2024-02-27 00:00:00",
         "10",
         "0",
         "5249.087453435673",
         "0.0",
         "5249.087453435673"
        ],
        [
         "2024-02-28 00:00:00",
         "10",
         "0",
         "5240.975967122407",
         "0.0",
         "5240.975967122407"
        ],
        [
         "2024-02-29 00:00:00",
         "10",
         "0",
         "5260.3530389702455",
         "0.0",
         "5260.3530389702455"
        ],
        [
         "2024-03-01 00:00:00",
         "10",
         "0",
         "5311.049567183045",
         "0.0",
         "5311.049567183045"
        ],
        [
         "2024-03-04 00:00:00",
         "10",
         "0",
         "5304.7406720868175",
         "0.0",
         "5304.7406720868175"
        ],
        [
         "2024-03-05 00:00:00",
         "10",
         "0",
         "5251.565798654846",
         "0.0",
         "5251.565798654846"
        ],
        [
         "2024-03-06 00:00:00",
         "10",
         "0",
         "5279.392582143821",
         "0.0",
         "5279.392582143821"
        ],
        [
         "2024-03-07 00:00:00",
         "10",
         "0",
         "5331.666334130677",
         "0.0",
         "5331.666334130677"
        ],
        [
         "2024-03-08 00:00:00",
         "10",
         "0",
         "5299.3332467625105",
         "0.0",
         "5299.3332467625105"
        ],
        [
         "2024-03-11 00:00:00",
         "10",
         "0",
         "5294.939452441408",
         "0.0",
         "5294.939452441408"
        ],
        [
         "2024-03-12 00:00:00",
         "10",
         "0",
         "5351.606302095757",
         "0.0",
         "5351.606302095757"
        ],
        [
         "2024-03-13 00:00:00",
         "10",
         "0",
         "5343.494815782492",
         "0.0",
         "5343.494815782492"
        ]
       ],
       "shape": {
        "columns": 5,
        "rows": 299
       }
      },
      "text/html": [
       "<div>\n",
       "<style scoped>\n",
       "    .dataframe tbody tr th:only-of-type {\n",
       "        vertical-align: middle;\n",
       "    }\n",
       "\n",
       "    .dataframe tbody tr th {\n",
       "        vertical-align: top;\n",
       "    }\n",
       "\n",
       "    .dataframe thead th {\n",
       "        text-align: right;\n",
       "    }\n",
       "</style>\n",
       "<table border=\"1\" class=\"dataframe\">\n",
       "  <thead>\n",
       "    <tr style=\"text-align: right;\">\n",
       "      <th></th>\n",
       "      <th>VOO_portions</th>\n",
       "      <th>QQQ_portions</th>\n",
       "      <th>VOO_value</th>\n",
       "      <th>QQQ_value</th>\n",
       "      <th>Total_value</th>\n",
       "    </tr>\n",
       "    <tr>\n",
       "      <th>Date</th>\n",
       "      <th></th>\n",
       "      <th></th>\n",
       "      <th></th>\n",
       "      <th></th>\n",
       "      <th></th>\n",
       "    </tr>\n",
       "  </thead>\n",
       "  <tbody>\n",
       "    <tr>\n",
       "      <th>2024-01-02</th>\n",
       "      <td>0</td>\n",
       "      <td>0</td>\n",
       "      <td>0.0</td>\n",
       "      <td>0.000000</td>\n",
       "      <td>0.000000</td>\n",
       "    </tr>\n",
       "    <tr>\n",
       "      <th>2024-01-03</th>\n",
       "      <td>0</td>\n",
       "      <td>0</td>\n",
       "      <td>0.0</td>\n",
       "      <td>0.000000</td>\n",
       "      <td>0.000000</td>\n",
       "    </tr>\n",
       "    <tr>\n",
       "      <th>2024-01-04</th>\n",
       "      <td>0</td>\n",
       "      <td>0</td>\n",
       "      <td>0.0</td>\n",
       "      <td>0.000000</td>\n",
       "      <td>0.000000</td>\n",
       "    </tr>\n",
       "    <tr>\n",
       "      <th>2024-01-05</th>\n",
       "      <td>0</td>\n",
       "      <td>0</td>\n",
       "      <td>0.0</td>\n",
       "      <td>0.000000</td>\n",
       "      <td>0.000000</td>\n",
       "    </tr>\n",
       "    <tr>\n",
       "      <th>2024-01-08</th>\n",
       "      <td>0</td>\n",
       "      <td>0</td>\n",
       "      <td>0.0</td>\n",
       "      <td>0.000000</td>\n",
       "      <td>0.000000</td>\n",
       "    </tr>\n",
       "    <tr>\n",
       "      <th>...</th>\n",
       "      <td>...</td>\n",
       "      <td>...</td>\n",
       "      <td>...</td>\n",
       "      <td>...</td>\n",
       "      <td>...</td>\n",
       "    </tr>\n",
       "    <tr>\n",
       "      <th>2025-03-06</th>\n",
       "      <td>0</td>\n",
       "      <td>10</td>\n",
       "      <td>0.0</td>\n",
       "      <td>5888.927247</td>\n",
       "      <td>5888.927247</td>\n",
       "    </tr>\n",
       "    <tr>\n",
       "      <th>2025-03-07</th>\n",
       "      <td>0</td>\n",
       "      <td>10</td>\n",
       "      <td>0.0</td>\n",
       "      <td>5932.231685</td>\n",
       "      <td>5932.231685</td>\n",
       "    </tr>\n",
       "    <tr>\n",
       "      <th>2025-03-10</th>\n",
       "      <td>0</td>\n",
       "      <td>10</td>\n",
       "      <td>0.0</td>\n",
       "      <td>5702.319895</td>\n",
       "      <td>5702.319895</td>\n",
       "    </tr>\n",
       "    <tr>\n",
       "      <th>2025-03-11</th>\n",
       "      <td>0</td>\n",
       "      <td>10</td>\n",
       "      <td>0.0</td>\n",
       "      <td>5688.689177</td>\n",
       "      <td>5688.689177</td>\n",
       "    </tr>\n",
       "    <tr>\n",
       "      <th>2025-03-12</th>\n",
       "      <td>0</td>\n",
       "      <td>10</td>\n",
       "      <td>0.0</td>\n",
       "      <td>5752.861924</td>\n",
       "      <td>5752.861924</td>\n",
       "    </tr>\n",
       "  </tbody>\n",
       "</table>\n",
       "<p>299 rows × 5 columns</p>\n",
       "</div>"
      ],
      "text/plain": [
       "            VOO_portions  QQQ_portions  VOO_value    QQQ_value  Total_value\n",
       "Date                                                                       \n",
       "2024-01-02             0             0        0.0     0.000000     0.000000\n",
       "2024-01-03             0             0        0.0     0.000000     0.000000\n",
       "2024-01-04             0             0        0.0     0.000000     0.000000\n",
       "2024-01-05             0             0        0.0     0.000000     0.000000\n",
       "2024-01-08             0             0        0.0     0.000000     0.000000\n",
       "...                  ...           ...        ...          ...          ...\n",
       "2025-03-06             0            10        0.0  5888.927247  5888.927247\n",
       "2025-03-07             0            10        0.0  5932.231685  5932.231685\n",
       "2025-03-10             0            10        0.0  5702.319895  5702.319895\n",
       "2025-03-11             0            10        0.0  5688.689177  5688.689177\n",
       "2025-03-12             0            10        0.0  5752.861924  5752.861924\n",
       "\n",
       "[299 rows x 5 columns]"
      ]
     },
     "execution_count": 19,
     "metadata": {},
     "output_type": "execute_result"
    }
   ],
   "source": [
    "positions"
   ]
  },
  {
   "cell_type": "code",
   "execution_count": 21,
   "metadata": {},
   "outputs": [],
   "source": [
    "# Fill NaN values with 0\n",
    "positions = positions.fillna(0)\n",
    "\n",
    "# Calculate strategy returns\n",
    "strategy_returns = positions['Total_value'].pct_change().fillna(0)\n",
    "\n",
    "# Create benchmark (100% VOO)\n",
    "benchmark_value = initial_capital * (voo_prices / voo_prices[data.index[warm_up]])\n",
    "benchmark_returns = benchmark_value.pct_change().fillna(0)\n",
    "\n",
    "# Trim data to start from day 250 (when we have enough data for the strategy)\n",
    "start_idx = warm_up\n",
    "strategy_returns = strategy_returns[start_idx:]\n",
    "benchmark_returns = benchmark_returns[start_idx:]"
   ]
  },
  {
   "cell_type": "code",
   "execution_count": 23,
   "metadata": {},
   "outputs": [
    {
     "data": {
      "text/plain": [
       "Date\n",
       "2024-01-31   -0.016291\n",
       "2024-02-01    0.013159\n",
       "2024-02-02    0.010274\n",
       "2024-02-05   -0.003654\n",
       "2024-02-06    0.003115\n",
       "                ...   \n",
       "2025-03-06   -0.018140\n",
       "2025-03-07    0.005392\n",
       "2025-03-10   -0.026440\n",
       "2025-03-11   -0.008205\n",
       "2025-03-12    0.004851\n",
       "Name: (Close, VOO), Length: 279, dtype: float64"
      ]
     },
     "execution_count": 23,
     "metadata": {},
     "output_type": "execute_result"
    }
   ],
   "source": [
    "benchmark_returns"
   ]
  },
  {
   "cell_type": "code",
   "execution_count": 30,
   "metadata": {},
   "outputs": [],
   "source": [
    "# Convert to vectorbt PortfolioStats\n",
    "strategy_rets = strategy_returns.vbt.to_returns()\n",
    "benchmark_rets = benchmark_returns.vbt.to_returns()\n",
    "# strategy_rets = vbt.returns.Returns(strategy_reretturns)\n",
    "# benchmark_rets = vbt.returns.Returns(benchmark_urns)\n",
    "strategy_stats = strategy_rets.vbt.stats()\n",
    "benchmark_stats = benchmark_rets.vbt.stats()"
   ]
  },
  {
   "cell_type": "code",
   "execution_count": 31,
   "metadata": {},
   "outputs": [
    {
     "data": {
      "text/plain": [
       "Start        2024-01-31 00:00:00\n",
       "End          2025-03-12 00:00:00\n",
       "Period                       279\n",
       "Count                        277\n",
       "Mean                   -0.232399\n",
       "Std                    16.701945\n",
       "Min                  -232.867786\n",
       "Median                 -0.200298\n",
       "Max                    79.917842\n",
       "Min Index    2025-02-27 00:00:00\n",
       "Max Index    2025-02-18 00:00:00\n",
       "Name: Total_value, dtype: object"
      ]
     },
     "execution_count": 31,
     "metadata": {},
     "output_type": "execute_result"
    }
   ],
   "source": [
    "strategy_stats"
   ]
  },
  {
   "cell_type": "code",
   "execution_count": 32,
   "metadata": {},
   "outputs": [
    {
     "data": {
      "text/plain": [
       "Start        2024-01-31 00:00:00\n",
       "End          2025-03-12 00:00:00\n",
       "Period                       279\n",
       "Count                        278\n",
       "Mean                    -0.54053\n",
       "Std                    36.657192\n",
       "Min                   -571.44939\n",
       "Median                 -0.175047\n",
       "Max                   135.268104\n",
       "Min Index    2024-12-27 00:00:00\n",
       "Max Index    2024-05-09 00:00:00\n",
       "Name: (Close, VOO), dtype: object"
      ]
     },
     "execution_count": 32,
     "metadata": {},
     "output_type": "execute_result"
    }
   ],
   "source": [
    "benchmark_stats"
   ]
  },
  {
   "cell_type": "code",
   "execution_count": null,
   "metadata": {},
   "outputs": [
    {
     "name": "stdout",
     "output_type": "stream",
     "text": [
      "\n",
      "--- Strategy Performance ---\n",
      "Final Portfolio Value: $5752.86\n",
      "Total Return: 15.06%\n",
      "VOO Portions: 0\n",
      "QQQ Portions: 10\n",
      "\n",
      "--- Comparison with Benchmark ---\n"
     ]
    },
    {
     "name": "stderr",
     "output_type": "stream",
     "text": [
      "C:\\Users\\User\\AppData\\Local\\Temp\\ipykernel_4824\\546643138.py:3: FutureWarning: Series.__getitem__ treating keys as positions is deprecated. In a future version, integer keys will always be treated as labels (consistent with DataFrame behavior). To access a value by position, use `ser.iloc[pos]`\n",
      "  print(f\"Final Portfolio Value: ${positions['Total_value'][-1]:.2f}\")\n",
      "C:\\Users\\User\\AppData\\Local\\Temp\\ipykernel_4824\\546643138.py:4: FutureWarning: Series.__getitem__ treating keys as positions is deprecated. In a future version, integer keys will always be treated as labels (consistent with DataFrame behavior). To access a value by position, use `ser.iloc[pos]`\n",
      "  print(f\"Total Return: {(positions['Total_value'][-1] / initial_capital - 1) * 100:.2f}%\")\n",
      "C:\\Users\\User\\AppData\\Local\\Temp\\ipykernel_4824\\546643138.py:5: FutureWarning: Series.__getitem__ treating keys as positions is deprecated. In a future version, integer keys will always be treated as labels (consistent with DataFrame behavior). To access a value by position, use `ser.iloc[pos]`\n",
      "  print(f\"VOO Portions: {positions['VOO_portions'][-1]}\")\n",
      "C:\\Users\\User\\AppData\\Local\\Temp\\ipykernel_4824\\546643138.py:6: FutureWarning: Series.__getitem__ treating keys as positions is deprecated. In a future version, integer keys will always be treated as labels (consistent with DataFrame behavior). To access a value by position, use `ser.iloc[pos]`\n",
      "  print(f\"QQQ Portions: {positions['QQQ_portions'][-1]}\")\n"
     ]
    },
    {
     "data": {
      "image/png": "[encoded data removed]",
      "text/plain": [
       "<Figure size 1200x800 with 2 Axes>"
      ]
     },
     "metadata": {},
     "output_type": "display_data"
    },
    {
     "name": "stdout",
     "output_type": "stream",
     "text": [
      "\n",
      "--- Detailed Performance Report ---\n"
     ]
    },
    {
     "name": "stderr",
     "output_type": "stream",
     "text": [
      "C:\\Users\\User\\AppData\\Local\\Temp\\ipykernel_4824\\546643138.py:45: FutureWarning: Series.__getitem__ treating keys as positions is deprecated. In a future version, integer keys will always be treated as labels (consistent with DataFrame behavior). To access a value by position, use `ser.iloc[pos]`\n",
      "  f\"{(positions['Total_value'][-1] / initial_capital - 1) * 100:.2f}%\",\n"
     ]
    },
    {
     "ename": "KeyError",
     "evalue": "'yearly_return'",
     "output_type": "error",
     "traceback": [
      "\u001b[31m---------------------------------------------------------------------------\u001b[39m",
      "\u001b[31mKeyError\u001b[39m                                  Traceback (most recent call last)",
      "\u001b[36mFile \u001b[39m\u001b[32mc:\\Users\\User\\Documents\\Python Scripts\\TWSectorScreener\\.venv\\Lib\\site-packages\\pandas\\core\\indexes\\base.py:3805\u001b[39m, in \u001b[36mIndex.get_loc\u001b[39m\u001b[34m(self, key)\u001b[39m\n\u001b[32m   3804\u001b[39m \u001b[38;5;28;01mtry\u001b[39;00m:\n\u001b[32m-> \u001b[39m\u001b[32m3805\u001b[39m     \u001b[38;5;28;01mreturn\u001b[39;00m \u001b[38;5;28;43mself\u001b[39;49m\u001b[43m.\u001b[49m\u001b[43m_engine\u001b[49m\u001b[43m.\u001b[49m\u001b[43mget_loc\u001b[49m\u001b[43m(\u001b[49m\u001b[43mcasted_key\u001b[49m\u001b[43m)\u001b[49m\n\u001b[32m   3806\u001b[39m \u001b[38;5;28;01mexcept\u001b[39;00m \u001b[38;5;167;01mKeyError\u001b[39;00m \u001b[38;5;28;01mas\u001b[39;00m err:\n",
      "\u001b[36mFile \u001b[39m\u001b[32mindex.pyx:167\u001b[39m, in \u001b[36mpandas._libs.index.IndexEngine.get_loc\u001b[39m\u001b[34m()\u001b[39m\n",
      "\u001b[36mFile \u001b[39m\u001b[32mindex.pyx:196\u001b[39m, in \u001b[36mpandas._libs.index.IndexEngine.get_loc\u001b[39m\u001b[34m()\u001b[39m\n",
      "\u001b[36mFile \u001b[39m\u001b[32mpandas\\\\_libs\\\\hashtable_class_helper.pxi:7081\u001b[39m, in \u001b[36mpandas._libs.hashtable.PyObjectHashTable.get_item\u001b[39m\u001b[34m()\u001b[39m\n",
      "\u001b[36mFile \u001b[39m\u001b[32mpandas\\\\_libs\\\\hashtable_class_helper.pxi:7089\u001b[39m, in \u001b[36mpandas._libs.hashtable.PyObjectHashTable.get_item\u001b[39m\u001b[34m()\u001b[39m\n",
      "\u001b[31mKeyError\u001b[39m: 'yearly_return'",
      "\nThe above exception was the direct cause of the following exception:\n",
      "\u001b[31mKeyError\u001b[39m                                  Traceback (most recent call last)",
      "\u001b[36mCell\u001b[39m\u001b[36m \u001b[39m\u001b[32mIn[34]\u001b[39m\u001b[32m, line 46\u001b[39m\n\u001b[32m     40\u001b[39m \u001b[38;5;66;03m# Create a more detailed performance report\u001b[39;00m\n\u001b[32m     41\u001b[39m \u001b[38;5;28mprint\u001b[39m(\u001b[33m\"\u001b[39m\u001b[38;5;130;01m\\n\u001b[39;00m\u001b[33m--- Detailed Performance Report ---\u001b[39m\u001b[33m\"\u001b[39m)\n\u001b[32m     42\u001b[39m report_df = pd.DataFrame({\n\u001b[32m     43\u001b[39m     \u001b[33m'\u001b[39m\u001b[33mMetric\u001b[39m\u001b[33m'\u001b[39m: [\u001b[33m'\u001b[39m\u001b[33mTotal Return\u001b[39m\u001b[33m'\u001b[39m, \u001b[33m'\u001b[39m\u001b[33mCAGR\u001b[39m\u001b[33m'\u001b[39m, \u001b[33m'\u001b[39m\u001b[33mSharpe Ratio\u001b[39m\u001b[33m'\u001b[39m, \u001b[33m'\u001b[39m\u001b[33mMax Drawdown\u001b[39m\u001b[33m'\u001b[39m, \u001b[33m'\u001b[39m\u001b[33mVolatility\u001b[39m\u001b[33m'\u001b[39m],\n\u001b[32m     44\u001b[39m     \u001b[33m'\u001b[39m\u001b[33mStrategy\u001b[39m\u001b[33m'\u001b[39m: [\n\u001b[32m     45\u001b[39m         \u001b[33mf\u001b[39m\u001b[33m\"\u001b[39m\u001b[38;5;132;01m{\u001b[39;00m(positions[\u001b[33m'\u001b[39m\u001b[33mTotal_value\u001b[39m\u001b[33m'\u001b[39m][-\u001b[32m1\u001b[39m]\u001b[38;5;250m \u001b[39m/\u001b[38;5;250m \u001b[39minitial_capital\u001b[38;5;250m \u001b[39m-\u001b[38;5;250m \u001b[39m\u001b[32m1\u001b[39m)\u001b[38;5;250m \u001b[39m*\u001b[38;5;250m \u001b[39m\u001b[32m100\u001b[39m\u001b[38;5;132;01m:\u001b[39;00m\u001b[33m.2f\u001b[39m\u001b[38;5;132;01m}\u001b[39;00m\u001b[33m%\u001b[39m\u001b[33m\"\u001b[39m,\n\u001b[32m---> \u001b[39m\u001b[32m46\u001b[39m         \u001b[33mf\u001b[39m\u001b[33m\"\u001b[39m\u001b[38;5;132;01m{\u001b[39;00m\u001b[43mstrategy_stats\u001b[49m\u001b[43m[\u001b[49m\u001b[33;43m'\u001b[39;49m\u001b[33;43myearly_return\u001b[39;49m\u001b[33;43m'\u001b[39;49m\u001b[43m]\u001b[49m\u001b[38;5;250m \u001b[39m*\u001b[38;5;250m \u001b[39m\u001b[32m100\u001b[39m\u001b[38;5;132;01m:\u001b[39;00m\u001b[33m.2f\u001b[39m\u001b[38;5;132;01m}\u001b[39;00m\u001b[33m%\u001b[39m\u001b[33m\"\u001b[39m,\n\u001b[32m     47\u001b[39m         \u001b[33mf\u001b[39m\u001b[33m\"\u001b[39m\u001b[38;5;132;01m{\u001b[39;00mstrategy_stats[\u001b[33m'\u001b[39m\u001b[33msharpe_ratio\u001b[39m\u001b[33m'\u001b[39m]\u001b[38;5;132;01m:\u001b[39;00m\u001b[33m.2f\u001b[39m\u001b[38;5;132;01m}\u001b[39;00m\u001b[33m\"\u001b[39m,\n\u001b[32m     48\u001b[39m         \u001b[33mf\u001b[39m\u001b[33m\"\u001b[39m\u001b[38;5;132;01m{\u001b[39;00mstrategy_stats[\u001b[33m'\u001b[39m\u001b[33mmax_drawdown\u001b[39m\u001b[33m'\u001b[39m]\u001b[38;5;250m \u001b[39m*\u001b[38;5;250m \u001b[39m\u001b[32m100\u001b[39m\u001b[38;5;132;01m:\u001b[39;00m\u001b[33m.2f\u001b[39m\u001b[38;5;132;01m}\u001b[39;00m\u001b[33m%\u001b[39m\u001b[33m\"\u001b[39m,\n\u001b[32m     49\u001b[39m         \u001b[33mf\u001b[39m\u001b[33m\"\u001b[39m\u001b[38;5;132;01m{\u001b[39;00mstrategy_stats[\u001b[33m'\u001b[39m\u001b[33myearly_vol\u001b[39m\u001b[33m'\u001b[39m]\u001b[38;5;250m \u001b[39m*\u001b[38;5;250m \u001b[39m\u001b[32m100\u001b[39m\u001b[38;5;132;01m:\u001b[39;00m\u001b[33m.2f\u001b[39m\u001b[38;5;132;01m}\u001b[39;00m\u001b[33m%\u001b[39m\u001b[33m\"\u001b[39m\n\u001b[32m     50\u001b[39m     ],\n\u001b[32m     51\u001b[39m     \u001b[33m'\u001b[39m\u001b[33mBenchmark (VOO)\u001b[39m\u001b[33m'\u001b[39m: [\n\u001b[32m     52\u001b[39m         \u001b[33mf\u001b[39m\u001b[33m\"\u001b[39m\u001b[38;5;132;01m{\u001b[39;00m(benchmark_value[-\u001b[32m1\u001b[39m]\u001b[38;5;250m \u001b[39m/\u001b[38;5;250m \u001b[39minitial_capital\u001b[38;5;250m \u001b[39m-\u001b[38;5;250m \u001b[39m\u001b[32m1\u001b[39m)\u001b[38;5;250m \u001b[39m*\u001b[38;5;250m \u001b[39m\u001b[32m100\u001b[39m\u001b[38;5;132;01m:\u001b[39;00m\u001b[33m.2f\u001b[39m\u001b[38;5;132;01m}\u001b[39;00m\u001b[33m%\u001b[39m\u001b[33m\"\u001b[39m,\n\u001b[32m     53\u001b[39m         \u001b[33mf\u001b[39m\u001b[33m\"\u001b[39m\u001b[38;5;132;01m{\u001b[39;00mbenchmark_stats[\u001b[33m'\u001b[39m\u001b[33myearly_return\u001b[39m\u001b[33m'\u001b[39m]\u001b[38;5;250m \u001b[39m*\u001b[38;5;250m \u001b[39m\u001b[32m100\u001b[39m\u001b[38;5;132;01m:\u001b[39;00m\u001b[33m.2f\u001b[39m\u001b[38;5;132;01m}\u001b[39;00m\u001b[33m%\u001b[39m\u001b[33m\"\u001b[39m,\n\u001b[32m     54\u001b[39m         \u001b[33mf\u001b[39m\u001b[33m\"\u001b[39m\u001b[38;5;132;01m{\u001b[39;00mbenchmark_stats[\u001b[33m'\u001b[39m\u001b[33msharpe_ratio\u001b[39m\u001b[33m'\u001b[39m]\u001b[38;5;132;01m:\u001b[39;00m\u001b[33m.2f\u001b[39m\u001b[38;5;132;01m}\u001b[39;00m\u001b[33m\"\u001b[39m,\n\u001b[32m     55\u001b[39m         \u001b[33mf\u001b[39m\u001b[33m\"\u001b[39m\u001b[38;5;132;01m{\u001b[39;00mbenchmark_stats[\u001b[33m'\u001b[39m\u001b[33mmax_drawdown\u001b[39m\u001b[33m'\u001b[39m]\u001b[38;5;250m \u001b[39m*\u001b[38;5;250m \u001b[39m\u001b[32m100\u001b[39m\u001b[38;5;132;01m:\u001b[39;00m\u001b[33m.2f\u001b[39m\u001b[38;5;132;01m}\u001b[39;00m\u001b[33m%\u001b[39m\u001b[33m\"\u001b[39m,\n\u001b[32m     56\u001b[39m         \u001b[33mf\u001b[39m\u001b[33m\"\u001b[39m\u001b[38;5;132;01m{\u001b[39;00mbenchmark_stats[\u001b[33m'\u001b[39m\u001b[33myearly_vol\u001b[39m\u001b[33m'\u001b[39m]\u001b[38;5;250m \u001b[39m*\u001b[38;5;250m \u001b[39m\u001b[32m100\u001b[39m\u001b[38;5;132;01m:\u001b[39;00m\u001b[33m.2f\u001b[39m\u001b[38;5;132;01m}\u001b[39;00m\u001b[33m%\u001b[39m\u001b[33m\"\u001b[39m\n\u001b[32m     57\u001b[39m     ]\n\u001b[32m     58\u001b[39m })\n\u001b[32m     60\u001b[39m \u001b[38;5;28mprint\u001b[39m(report_df.to_string(index=\u001b[38;5;28;01mFalse\u001b[39;00m))\n",
      "\u001b[36mFile \u001b[39m\u001b[32mc:\\Users\\User\\Documents\\Python Scripts\\TWSectorScreener\\.venv\\Lib\\site-packages\\pandas\\core\\series.py:1121\u001b[39m, in \u001b[36mSeries.__getitem__\u001b[39m\u001b[34m(self, key)\u001b[39m\n\u001b[32m   1118\u001b[39m     \u001b[38;5;28;01mreturn\u001b[39;00m \u001b[38;5;28mself\u001b[39m._values[key]\n\u001b[32m   1120\u001b[39m \u001b[38;5;28;01melif\u001b[39;00m key_is_scalar:\n\u001b[32m-> \u001b[39m\u001b[32m1121\u001b[39m     \u001b[38;5;28;01mreturn\u001b[39;00m \u001b[38;5;28;43mself\u001b[39;49m\u001b[43m.\u001b[49m\u001b[43m_get_value\u001b[49m\u001b[43m(\u001b[49m\u001b[43mkey\u001b[49m\u001b[43m)\u001b[49m\n\u001b[32m   1123\u001b[39m \u001b[38;5;66;03m# Convert generator to list before going through hashable part\u001b[39;00m\n\u001b[32m   1124\u001b[39m \u001b[38;5;66;03m# (We will iterate through the generator there to check for slices)\u001b[39;00m\n\u001b[32m   1125\u001b[39m \u001b[38;5;28;01mif\u001b[39;00m is_iterator(key):\n",
      "\u001b[36mFile \u001b[39m\u001b[32mc:\\Users\\User\\Documents\\Python Scripts\\TWSectorScreener\\.venv\\Lib\\site-packages\\pandas\\core\\series.py:1237\u001b[39m, in \u001b[36mSeries._get_value\u001b[39m\u001b[34m(self, label, takeable)\u001b[39m\n\u001b[32m   1234\u001b[39m     \u001b[38;5;28;01mreturn\u001b[39;00m \u001b[38;5;28mself\u001b[39m._values[label]\n\u001b[32m   1236\u001b[39m \u001b[38;5;66;03m# Similar to Index.get_value, but we do not fall back to positional\u001b[39;00m\n\u001b[32m-> \u001b[39m\u001b[32m1237\u001b[39m loc = \u001b[38;5;28;43mself\u001b[39;49m\u001b[43m.\u001b[49m\u001b[43mindex\u001b[49m\u001b[43m.\u001b[49m\u001b[43mget_loc\u001b[49m\u001b[43m(\u001b[49m\u001b[43mlabel\u001b[49m\u001b[43m)\u001b[49m\n\u001b[32m   1239\u001b[39m \u001b[38;5;28;01mif\u001b[39;00m is_integer(loc):\n\u001b[32m   1240\u001b[39m     \u001b[38;5;28;01mreturn\u001b[39;00m \u001b[38;5;28mself\u001b[39m._values[loc]\n",
      "\u001b[36mFile \u001b[39m\u001b[32mc:\\Users\\User\\Documents\\Python Scripts\\TWSectorScreener\\.venv\\Lib\\site-packages\\pandas\\core\\indexes\\base.py:3812\u001b[39m, in \u001b[36mIndex.get_loc\u001b[39m\u001b[34m(self, key)\u001b[39m\n\u001b[32m   3807\u001b[39m     \u001b[38;5;28;01mif\u001b[39;00m \u001b[38;5;28misinstance\u001b[39m(casted_key, \u001b[38;5;28mslice\u001b[39m) \u001b[38;5;129;01mor\u001b[39;00m (\n\u001b[32m   3808\u001b[39m         \u001b[38;5;28misinstance\u001b[39m(casted_key, abc.Iterable)\n\u001b[32m   3809\u001b[39m         \u001b[38;5;129;01mand\u001b[39;00m \u001b[38;5;28many\u001b[39m(\u001b[38;5;28misinstance\u001b[39m(x, \u001b[38;5;28mslice\u001b[39m) \u001b[38;5;28;01mfor\u001b[39;00m x \u001b[38;5;129;01min\u001b[39;00m casted_key)\n\u001b[32m   3810\u001b[39m     ):\n\u001b[32m   3811\u001b[39m         \u001b[38;5;28;01mraise\u001b[39;00m InvalidIndexError(key)\n\u001b[32m-> \u001b[39m\u001b[32m3812\u001b[39m     \u001b[38;5;28;01mraise\u001b[39;00m \u001b[38;5;167;01mKeyError\u001b[39;00m(key) \u001b[38;5;28;01mfrom\u001b[39;00m\u001b[38;5;250m \u001b[39m\u001b[34;01merr\u001b[39;00m\n\u001b[32m   3813\u001b[39m \u001b[38;5;28;01mexcept\u001b[39;00m \u001b[38;5;167;01mTypeError\u001b[39;00m:\n\u001b[32m   3814\u001b[39m     \u001b[38;5;66;03m# If we have a listlike key, _check_indexing_error will raise\u001b[39;00m\n\u001b[32m   3815\u001b[39m     \u001b[38;5;66;03m#  InvalidIndexError. Otherwise we fall through and re-raise\u001b[39;00m\n\u001b[32m   3816\u001b[39m     \u001b[38;5;66;03m#  the TypeError.\u001b[39;00m\n\u001b[32m   3817\u001b[39m     \u001b[38;5;28mself\u001b[39m._check_indexing_error(key)\n",
      "\u001b[31mKeyError\u001b[39m: 'yearly_return'"
     ]
    }
   ],
   "source": [
    "# Display results\n",
    "print(\"\\n--- Strategy Performance ---\")\n",
    "print(f\"Final Portfolio Value: ${positions['Total_value'][-1]:.2f}\")\n",
    "print(f\"Total Return: {(positions['Total_value'][-1] / initial_capital - 1) * 100:.2f}%\")\n",
    "print(f\"VOO Portions: {positions['VOO_portions'][-1]}\")\n",
    "print(f\"QQQ Portions: {positions['QQQ_portions'][-1]}\")\n",
    "\n",
    "print(\"\\n--- Comparison with Benchmark ---\")\n",
    "# print(f\"Strategy Sharpe Ratio: {strategy_stats['sharpe_ratio']:.2f}\")\n",
    "# print(f\"Benchmark Sharpe Ratio: {benchmark_stats['sharpe_ratio']:.2f}\")\n",
    "# print(f\"Strategy Max Drawdown: {strategy_stats['max_drawdown'] * 100:.2f}%\")\n",
    "# print(f\"Benchmark Max Drawdown: {benchmark_stats['max_drawdown'] * 100:.2f}%\")\n",
    "# print(f\"Strategy CAGR: {strategy_stats['yearly_return'] * 100:.2f}%\")\n",
    "# print(f\"Benchmark CAGR: {benchmark_stats['yearly_return'] * 100:.2f}%\")\n",
    "\n",
    "# Plot performance\n",
    "plt.figure(figsize=(12, 8))\n",
    "plt.subplot(2, 1, 1)\n",
    "plt.plot(positions['Total_value'], label='Strategy')\n",
    "plt.plot(benchmark_value[benchmark_value.index >= positions.index[0]], label='Benchmark (VOO)')\n",
    "plt.title('Portfolio Value Over Time')\n",
    "plt.xlabel('Date')\n",
    "plt.ylabel('Value ($)')\n",
    "plt.legend()\n",
    "plt.grid(True)\n",
    "\n",
    "plt.subplot(2, 1, 2)\n",
    "plt.plot(positions['VOO_portions'], label='VOO Portions', color='blue')\n",
    "plt.plot(positions['QQQ_portions'], label='QQQ Portions', color='green')\n",
    "plt.title('Asset Allocation Over Time')\n",
    "plt.xlabel('Date')\n",
    "plt.ylabel('Number of Portions')\n",
    "plt.legend()\n",
    "plt.grid(True)\n",
    "\n",
    "plt.tight_layout()\n",
    "plt.savefig('voo_qqq_strategy_results.png')\n",
    "plt.show()\n",
    "\n",
    "# Create a more detailed performance report\n",
    "print(\"\\n--- Detailed Performance Report ---\")\n",
    "# report_df = pd.DataFrame({\n",
    "#     'Metric': ['Total Return', 'CAGR', 'Sharpe Ratio', 'Max Drawdown', 'Volatility'],\n",
    "#     'Strategy': [\n",
    "#         f\"{(positions['Total_value'][-1] / initial_capital - 1) * 100:.2f}%\",\n",
    "#         f\"{strategy_stats['yearly_return'] * 100:.2f}%\",\n",
    "#         f\"{strategy_stats['sharpe_ratio']:.2f}\",\n",
    "#         f\"{strategy_stats['max_drawdown'] * 100:.2f}%\",\n",
    "#         f\"{strategy_stats['yearly_vol'] * 100:.2f}%\"\n",
    "#     ],\n",
    "#     'Benchmark (VOO)': [\n",
    "#         f\"{(benchmark_value[-1] / initial_capital - 1) * 100:.2f}%\",\n",
    "#         f\"{benchmark_stats['yearly_return'] * 100:.2f}%\",\n",
    "#         f\"{benchmark_stats['sharpe_ratio']:.2f}\",\n",
    "#         f\"{benchmark_stats['max_drawdown'] * 100:.2f}%\",\n",
    "#         f\"{benchmark_stats['yearly_vol'] * 100:.2f}%\"\n",
    "#     ]\n",
    "# })\n",
    "\n",
    "# print(report_df.to_string(index=False))"
   ]
  },
  {
   "cell_type": "code",
   "execution_count": null,
   "metadata": {},
   "outputs": [],
   "source": []
  }
 ],
 "metadata": {
  "kernelspec": {
   "display_name": ".venv",
   "language": "python",
   "name": "python3"
  },
  "language_info": {
   "codemirror_mode": {
    "name": "ipython",
    "version": 3
   },
   "file_extension": ".py",
   "mimetype": "text/x-python",
   "name": "python",
   "nbconvert_exporter": "python",
   "pygments_lexer": "ipython3",
   "version": "3.11.4"
  }
 },
 "nbformat": 4,
 "nbformat_minor": 2
}
